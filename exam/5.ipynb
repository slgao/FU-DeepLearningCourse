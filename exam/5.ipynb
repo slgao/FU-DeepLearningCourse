{
 "cells": [
  {
   "cell_type": "code",
   "execution_count": 1,
   "id": "786bcf6c-9a16-4789-83d4-c61f54867851",
   "metadata": {},
   "outputs": [],
   "source": [
    "import torch\n",
    "import ipdb"
   ]
  },
  {
   "cell_type": "code",
   "execution_count": 2,
   "id": "5eddd4b5-705d-47cd-b93f-3447072d7239",
   "metadata": {},
   "outputs": [],
   "source": [
    "torch.manual_seed(0)\n",
    "ALL = 1000\n",
    "N = 20\n",
    "F = 10\n",
    "F_prime = 1\n",
    "B = 32\n",
    "features = torch.rand(ALL, N, F)\n",
    "r = torch.rand(ALL, N, 3)\n",
    "f_batch = features[:B]"
   ]
  },
  {
   "cell_type": "code",
   "execution_count": 3,
   "id": "3b7235b2-2b65-421f-b184-e28b3284dac5",
   "metadata": {},
   "outputs": [],
   "source": [
    "f_bar_batch = features[:B]"
   ]
  },
  {
   "cell_type": "code",
   "execution_count": 4,
   "id": "0fb87d77-b2c3-4748-901f-23a698de657a",
   "metadata": {},
   "outputs": [
    {
     "data": {
      "text/plain": [
       "torch.Size([32, 20, 10])"
      ]
     },
     "execution_count": 4,
     "metadata": {},
     "output_type": "execute_result"
    }
   ],
   "source": [
    "f_bar_batch.size()"
   ]
  },
  {
   "cell_type": "code",
   "execution_count": 5,
   "id": "fce00559-1716-4f1e-932d-5aafd723d89b",
   "metadata": {},
   "outputs": [
    {
     "data": {
      "text/plain": [
       "torch.Size([32, 20, 3])"
      ]
     },
     "execution_count": 5,
     "metadata": {},
     "output_type": "execute_result"
    }
   ],
   "source": [
    "r_batch = r[:B]\n",
    "r_batch.size()"
   ]
  },
  {
   "cell_type": "code",
   "execution_count": 6,
   "id": "9afedbcd-1ac3-4cfe-977b-42b89b4afe74",
   "metadata": {},
   "outputs": [],
   "source": [
    "class PointwiseConvolutionLayer(torch.nn.Module):\n",
    "    def __init__(self, N, F, F_prime):\n",
    "        super().__init__()\n",
    "        self.f1 = torch.nn.Linear(F, 128)\n",
    "        self.f2 = torch.nn.Linear(128, F_prime)\n",
    "    def forward(self, f_bar_batch): # BxNxF\n",
    "        output = torch.nn.functional.softplus(self.f1(f_bar_batch))\n",
    "        return torch.nn.functional.softplus(self.f2(output))"
   ]
  },
  {
   "cell_type": "code",
   "execution_count": 7,
   "id": "4a3e2e42-a8b7-45c9-a516-cb7ad08cf4a3",
   "metadata": {},
   "outputs": [
    {
     "data": {
      "text/plain": [
       "torch.Size([32, 20, 1])"
      ]
     },
     "execution_count": 7,
     "metadata": {},
     "output_type": "execute_result"
    }
   ],
   "source": [
    "PointwiseConvolutionLayer(N, F, F_prime)(f_bar_batch).shape"
   ]
  },
  {
   "cell_type": "code",
   "execution_count": 8,
   "id": "2bb9a120-709f-4b1e-8c84-16af1ed8b921",
   "metadata": {},
   "outputs": [],
   "source": [
    "class MessagePassingLayer(torch.nn.Module):\n",
    "    def __init__(self, N, F):\n",
    "        super().__init__()\n",
    "        #self.f1 = torch.nn.Linear(N*N, 128)\n",
    "        #self.f2 = torch.nn.Linear(128, N*N*F)\n",
    "        self.f1 = torch.nn.Linear(1, 128)\n",
    "        self.f2 = torch.nn.Linear(128, F)\n",
    "        \n",
    "    def forward(self, r_batch, f_batch):\n",
    "        d = torch.cdist(r_batch, r_batch) # BXNxN\n",
    "        d_ = torch.reshape(d, (r_batch.shape[0], N, N, 1))\n",
    "        hidden_out = torch.nn.functional.softplus(self.f1(d_))\n",
    "        d_prime = torch.nn.functional.softplus(self.f2(hidden_out))\n",
    "        d_prime = torch.transpose(d_prime, 2, 3)  # BxNxFxN\n",
    "        f_batch = torch.unsqueeze(f_batch, 1)\n",
    "        _f_bar = torch.matmul(d_prime, f_batch)  # BxNxFxF\n",
    "        f_bar_output = torch.diagonal(_f_bar, offset=0, dim1=2, dim2=3)  # BxNxF\n",
    "        return torch.nn.functional.softplus(f_bar_output)"
   ]
  },
  {
   "cell_type": "code",
   "execution_count": 9,
   "id": "2ea612eb-0c07-4e8a-83e7-9fe81579d6c0",
   "metadata": {},
   "outputs": [],
   "source": [
    "class PropertyPredictor(torch.nn.Module):\n",
    "    def __init__(self, N, F, F_prime=1):\n",
    "        super().__init__()\n",
    "        self.mp_layer = MessagePassingLayer(N, F)\n",
    "        self.pc_layer = PointwiseConvolutionLayer(N, F, F_prime)\n",
    "    def forward(self, r_batch, f_batch):\n",
    "        f_bar_batch = self.mp_layer(r_batch, f_batch)\n",
    "        f_output = self.pc_layer(f_bar_batch)\n",
    "        return f_output"
   ]
  },
  {
   "cell_type": "code",
   "execution_count": 10,
   "id": "27cdb32f-fc2d-4108-b1d1-0f3dc6bbf452",
   "metadata": {},
   "outputs": [],
   "source": [
    "model = PropertyPredictor(N, F, F_prime)\n",
    "res = model(r_batch, f_batch)"
   ]
  },
  {
   "cell_type": "code",
   "execution_count": 11,
   "id": "bed7fefa-b359-493d-8c93-696f85761ef1",
   "metadata": {},
   "outputs": [
    {
     "data": {
      "text/plain": [
       "torch.Size([32, 20, 1])"
      ]
     },
     "execution_count": 11,
     "metadata": {},
     "output_type": "execute_result"
    }
   ],
   "source": [
    "res.shape"
   ]
  }
 ],
 "metadata": {
  "kernelspec": {
   "display_name": "Python 3",
   "language": "python",
   "name": "python3"
  },
  "language_info": {
   "codemirror_mode": {
    "name": "ipython",
    "version": 3
   },
   "file_extension": ".py",
   "mimetype": "text/x-python",
   "name": "python",
   "nbconvert_exporter": "python",
   "pygments_lexer": "ipython3",
   "version": "3.6.13"
  }
 },
 "nbformat": 4,
 "nbformat_minor": 5
}
