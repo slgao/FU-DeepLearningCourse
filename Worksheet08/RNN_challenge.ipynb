{
 "cells": [
  {
   "cell_type": "code",
   "execution_count": 112,
   "id": "b18dfc36",
   "metadata": {},
   "outputs": [
    {
     "name": "stdout",
     "output_type": "stream",
     "text": [
      "(400,) <U400\n",
      "(400,) int64\n",
      "(100,) <U1200\n",
      "(100,) int64\n",
      "(250,) <U2000\n"
     ]
    }
   ],
   "source": [
    "import numpy as np\n",
    "\n",
    "with open('rnn-challenge-data.npz', 'rb') as f:\n",
    "    X = np.load(f)\n",
    "    data_x = X['data_x']\n",
    "    data_y = X['data_y']\n",
    "    val_x = X['val_x']\n",
    "    val_y = X['val_y']\n",
    "    test_x = X['test_x']\n",
    "\n",
    "# TRAINING DATA: INPUT (x) AND OUTPUT (y)\n",
    "print(data_x.shape, data_x.dtype)\n",
    "print(data_y.shape, data_y.dtype)\n",
    "\n",
    "# VALIDATION DATA: INPUT (x) AND OUTPUT (y)\n",
    "print(val_x.shape, val_x.dtype)\n",
    "print(val_y.shape, val_y.dtype)\n",
    "\n",
    "# TEST DATA: INPUT (x) ONLY\n",
    "print(test_x.shape, test_x.dtype)\n",
    "\n",
    "# PREDICT prediction FROM test_x"
   ]
  },
  {
   "cell_type": "code",
   "execution_count": 113,
   "id": "aeac38d3",
   "metadata": {},
   "outputs": [],
   "source": [
    "import torch"
   ]
  },
  {
   "cell_type": "code",
   "execution_count": 114,
   "id": "afc278bf",
   "metadata": {},
   "outputs": [
    {
     "data": {
      "text/plain": [
       "device(type='cuda')"
      ]
     },
     "execution_count": 114,
     "metadata": {},
     "output_type": "execute_result"
    }
   ],
   "source": [
    "device = torch.device('cuda' if torch.cuda.is_available() else 'cpu')\n",
    "device\n",
    "#device = 'cpu'"
   ]
  },
  {
   "cell_type": "markdown",
   "id": "9a57dda6",
   "metadata": {},
   "source": [
    "## gene to vec"
   ]
  },
  {
   "cell_type": "code",
   "execution_count": 115,
   "id": "de89eb61",
   "metadata": {},
   "outputs": [],
   "source": [
    "#A C G T\n",
    "def encode_gene(gene: str) -> str:\n",
    "    gene = gene.replace('A', '1')\n",
    "    gene = gene.replace('C', '2')\n",
    "    gene = gene.replace('G', '3')\n",
    "    gene = gene.replace('T', '4')\n",
    "    return [int(c) for c in gene]\n",
    "        \n",
    "def sequence_2vec(input_data):\n",
    "    out_data = []\n",
    "    for seq in input_data:\n",
    "        out_data.append(encode_gene(seq))\n",
    "    return np.array(out_data)\n",
    "                             \n",
    "data_x_vec = sequence_2vec(data_x)\n",
    "val_x_vec = sequence_2vec(val_x)\n",
    "test_x_vec = sequence_2vec(test_x)"
   ]
  },
  {
   "cell_type": "code",
   "execution_count": 116,
   "id": "eebe4379",
   "metadata": {},
   "outputs": [
    {
     "name": "stdout",
     "output_type": "stream",
     "text": [
      "(400, 400)\n",
      "(100, 1200)\n",
      "(250, 2000)\n"
     ]
    }
   ],
   "source": [
    "print(data_x_vec.shape)\n",
    "print(val_x_vec.shape)\n",
    "print(test_x_vec.shape)"
   ]
  },
  {
   "cell_type": "code",
   "execution_count": 117,
   "id": "b4082523-5f83-4806-9e8d-133863b055ee",
   "metadata": {},
   "outputs": [
    {
     "data": {
      "text/plain": [
       "torch.Size([100, 1200, 4])"
      ]
     },
     "execution_count": 117,
     "metadata": {},
     "output_type": "execute_result"
    }
   ],
   "source": [
    "ctx = {\"device\": device, \"dtype\": torch.float32}\n",
    "def parse_bases(data):\n",
    "    all_data = []\n",
    "    for x in data:\n",
    "        string = []\n",
    "        for char in x:\n",
    "            #import ipdb\n",
    "            string.append({\"A\":0,\"C\":1,\"G\":2,\"T\":3}[char])\n",
    "        #ipdb.set_trace()\n",
    "        tensor = torch.tensor(string)\n",
    "        one_hot = torch.nn.functional.one_hot(tensor)\n",
    "        all_data.append(one_hot)\n",
    "    return torch.stack(all_data).to(**ctx)\n",
    "\n",
    "parse_bases(val_x).shape"
   ]
  },
  {
   "cell_type": "code",
   "execution_count": 118,
   "id": "655133d1",
   "metadata": {},
   "outputs": [
    {
     "name": "stdout",
     "output_type": "stream",
     "text": [
      "tensor([[[0., 1., 0., 0.],\n",
      "         [0., 0., 0., 1.],\n",
      "         [1., 0., 0., 0.],\n",
      "         ...,\n",
      "         [0., 0., 0., 1.],\n",
      "         [1., 0., 0., 0.],\n",
      "         [0., 0., 1., 0.]],\n",
      "\n",
      "        [[0., 0., 0., 1.],\n",
      "         [0., 0., 1., 0.],\n",
      "         [1., 0., 0., 0.],\n",
      "         ...,\n",
      "         [0., 1., 0., 0.],\n",
      "         [0., 0., 1., 0.],\n",
      "         [0., 0., 0., 1.]],\n",
      "\n",
      "        [[1., 0., 0., 0.],\n",
      "         [0., 0., 1., 0.],\n",
      "         [0., 0., 0., 1.],\n",
      "         ...,\n",
      "         [0., 1., 0., 0.],\n",
      "         [0., 0., 0., 1.],\n",
      "         [1., 0., 0., 0.]],\n",
      "\n",
      "        ...,\n",
      "\n",
      "        [[1., 0., 0., 0.],\n",
      "         [0., 0., 1., 0.],\n",
      "         [0., 0., 0., 1.],\n",
      "         ...,\n",
      "         [0., 0., 0., 1.],\n",
      "         [0., 1., 0., 0.],\n",
      "         [1., 0., 0., 0.]],\n",
      "\n",
      "        [[0., 1., 0., 0.],\n",
      "         [1., 0., 0., 0.],\n",
      "         [0., 0., 1., 0.],\n",
      "         ...,\n",
      "         [0., 0., 0., 1.],\n",
      "         [0., 0., 1., 0.],\n",
      "         [1., 0., 0., 0.]],\n",
      "\n",
      "        [[1., 0., 0., 0.],\n",
      "         [0., 1., 0., 0.],\n",
      "         [0., 0., 1., 0.],\n",
      "         ...,\n",
      "         [0., 0., 1., 0.],\n",
      "         [0., 0., 0., 1.],\n",
      "         [0., 1., 0., 0.]]], device='cuda:0') torch.Size([400, 400, 4])\n"
     ]
    }
   ],
   "source": [
    "from torch.nn.utils.rnn import pad_sequence\n",
    "data_x_ts = parse_bases(data_x)\n",
    "val_x_ts = parse_bases(val_x)\n",
    "test_x_ts = parse_bases(test_x)\n",
    "print(data_x_ts, data_x_ts.shape)\n"
   ]
  },
  {
   "cell_type": "markdown",
   "id": "aec3674e",
   "metadata": {},
   "source": [
    "## Build model and train the model"
   ]
  },
  {
   "cell_type": "code",
   "execution_count": 119,
   "id": "352495fd",
   "metadata": {},
   "outputs": [],
   "source": [
    "import torch.nn as nn\n",
    "class RNN(nn.Module):\n",
    "    def __init__(\n",
    "        self,\n",
    "        batch_size,\n",
    "        hidden_size=5, \n",
    "        n_layers=2,\n",
    "        device='cpu',\n",
    "    ):\n",
    "        super(RNN, self).__init__()\n",
    "        self.n_layers = n_layers\n",
    "        self.hidden_size = hidden_size\n",
    "        self.device = device\n",
    "        self.batch_size = batch_size\n",
    "        \n",
    "        self.rnn = nn.GRU(4, hidden_size, n_layers, batch_first=True)   \n",
    "        self.decoder = nn.Linear(hidden_size, 5)\n",
    "        self.act = nn.LogSoftmax(dim=-1)\n",
    "        \n",
    "    def init_hidden(self):\n",
    "        return torch.randn(self.n_layers, self.batch_size, self.hidden_size).to(self.device) \n",
    "   \n",
    "    def forward(self, inputs):\n",
    "        # Avoid breaking if the last batch has a different size\n",
    "        batch_size = inputs.size(0)\n",
    "        if batch_size != self.batch_size:\n",
    "            self.batch_size = batch_size\n",
    "            \n",
    "        output, hidden = self.rnn(inputs, self.init_hidden())\n",
    "        output = self.decoder(output[:, -1, :]).squeeze()\n",
    "        output = self.act(output)\n",
    "        return output"
   ]
  },
  {
   "cell_type": "code",
   "execution_count": null,
   "id": "f99ce445",
   "metadata": {},
   "outputs": [],
   "source": []
  },
  {
   "cell_type": "code",
   "execution_count": 120,
   "id": "a01ca8a9",
   "metadata": {},
   "outputs": [],
   "source": [
    "#device = 'cpu'\n",
    "batch_size = 32\n",
    "model = RNN(\n",
    "    batch_size=batch_size,\n",
    "    hidden_size=5,\n",
    "    n_layers = 2,\n",
    "    device=device,\n",
    ")\n",
    "model = model.to(device)"
   ]
  },
  {
   "cell_type": "code",
   "execution_count": 121,
   "id": "ce5f9d0d",
   "metadata": {},
   "outputs": [],
   "source": [
    "from torch.utils.data import TensorDataset, DataLoader\n",
    "train_data = TensorDataset(parse_bases(data_x), torch.tensor(data_y))\n",
    "train_loader = DataLoader(\n",
    "    train_data,\n",
    "    batch_size=batch_size,\n",
    "    shuffle=True\n",
    ")\n",
    "val_data = TensorDataset(parse_bases(val_x), torch.tensor(val_y))\n",
    "val_loader = DataLoader(\n",
    "    val_data,\n",
    "    batch_size=100,\n",
    "    shuffle=False\n",
    ")"
   ]
  },
  {
   "cell_type": "code",
   "execution_count": 122,
   "id": "ba9fcff6",
   "metadata": {},
   "outputs": [
    {
     "data": {
      "text/plain": [
       "device(type='cuda')"
      ]
     },
     "execution_count": 122,
     "metadata": {},
     "output_type": "execute_result"
    }
   ],
   "source": [
    "device"
   ]
  },
  {
   "cell_type": "code",
   "execution_count": null,
   "id": "fda9954f-ae32-4152-8f47-9a2ff2b5a71b",
   "metadata": {},
   "outputs": [],
   "source": []
  },
  {
   "cell_type": "code",
   "execution_count": 123,
   "id": "edc14c1c-6b78-4736-bf49-99e0e6e2e0e0",
   "metadata": {},
   "outputs": [],
   "source": [
    "import torch.optim as optim\n",
    "#nll = nn.CrossEntropyLoss()\n",
    "#criterion = nn.BCEWithLogitsLoss()\n",
    "nll = nn.NLLLoss()\n",
    "optim = optim.Adam(model.parameters(), lr=0.01)\n",
    "\n",
    "def accuracy(log_prob, category):\n",
    "    return (log_prob.argmax(dim=-1) == category).sum() / len(category)"
   ]
  },
  {
   "cell_type": "code",
   "execution_count": 124,
   "id": "e6f66de6",
   "metadata": {},
   "outputs": [
    {
     "data": {
      "application/vnd.jupyter.widget-view+json": {
       "model_id": "abe4a750366a4681bc1a7efa16da6dd2",
       "version_major": 2,
       "version_minor": 0
      },
      "text/plain": [
       "  0%|          | 0/300 [00:00<?, ?it/s]"
      ]
     },
     "metadata": {},
     "output_type": "display_data"
    },
    {
     "name": "stdout",
     "output_type": "stream",
     "text": [
      "Epoch: 73      Accuracy: 99%    Best Accuracy: 98%\r"
     ]
    },
    {
     "ename": "KeyboardInterrupt",
     "evalue": "",
     "output_type": "error",
     "traceback": [
      "\u001b[1;31m---------------------------------------------------------------------------\u001b[0m",
      "\u001b[1;31mKeyboardInterrupt\u001b[0m                         Traceback (most recent call last)",
      "\u001b[1;32m<ipython-input-124-0303916e0bfb>\u001b[0m in \u001b[0;36m<module>\u001b[1;34m\u001b[0m\n\u001b[0;32m     14\u001b[0m         \u001b[1;31m#ipdb.set_trace()\u001b[0m\u001b[1;33m\u001b[0m\u001b[1;33m\u001b[0m\u001b[1;33m\u001b[0m\u001b[0m\n\u001b[0;32m     15\u001b[0m         \u001b[0mloss\u001b[0m \u001b[1;33m=\u001b[0m \u001b[0mnll\u001b[0m\u001b[1;33m(\u001b[0m\u001b[0mresult\u001b[0m\u001b[1;33m,\u001b[0m \u001b[0mcategory\u001b[0m\u001b[1;33m)\u001b[0m\u001b[1;33m\u001b[0m\u001b[1;33m\u001b[0m\u001b[0m\n\u001b[1;32m---> 16\u001b[1;33m         \u001b[0mloss\u001b[0m\u001b[1;33m.\u001b[0m\u001b[0mbackward\u001b[0m\u001b[1;33m(\u001b[0m\u001b[1;33m)\u001b[0m\u001b[1;33m\u001b[0m\u001b[1;33m\u001b[0m\u001b[0m\n\u001b[0m\u001b[0;32m     17\u001b[0m         \u001b[0moptim\u001b[0m\u001b[1;33m.\u001b[0m\u001b[0mstep\u001b[0m\u001b[1;33m(\u001b[0m\u001b[1;33m)\u001b[0m\u001b[1;33m\u001b[0m\u001b[1;33m\u001b[0m\u001b[0m\n\u001b[0;32m     18\u001b[0m \u001b[1;33m\u001b[0m\u001b[0m\n",
      "\u001b[1;32mc:\\users\\sgao0001\\anaconda3\\envs\\dl\\lib\\site-packages\\torch\\_tensor.py\u001b[0m in \u001b[0;36mbackward\u001b[1;34m(self, gradient, retain_graph, create_graph, inputs)\u001b[0m\n\u001b[0;32m    253\u001b[0m                 \u001b[0mcreate_graph\u001b[0m\u001b[1;33m=\u001b[0m\u001b[0mcreate_graph\u001b[0m\u001b[1;33m,\u001b[0m\u001b[1;33m\u001b[0m\u001b[1;33m\u001b[0m\u001b[0m\n\u001b[0;32m    254\u001b[0m                 inputs=inputs)\n\u001b[1;32m--> 255\u001b[1;33m         \u001b[0mtorch\u001b[0m\u001b[1;33m.\u001b[0m\u001b[0mautograd\u001b[0m\u001b[1;33m.\u001b[0m\u001b[0mbackward\u001b[0m\u001b[1;33m(\u001b[0m\u001b[0mself\u001b[0m\u001b[1;33m,\u001b[0m \u001b[0mgradient\u001b[0m\u001b[1;33m,\u001b[0m \u001b[0mretain_graph\u001b[0m\u001b[1;33m,\u001b[0m \u001b[0mcreate_graph\u001b[0m\u001b[1;33m,\u001b[0m \u001b[0minputs\u001b[0m\u001b[1;33m=\u001b[0m\u001b[0minputs\u001b[0m\u001b[1;33m)\u001b[0m\u001b[1;33m\u001b[0m\u001b[1;33m\u001b[0m\u001b[0m\n\u001b[0m\u001b[0;32m    256\u001b[0m \u001b[1;33m\u001b[0m\u001b[0m\n\u001b[0;32m    257\u001b[0m     \u001b[1;32mdef\u001b[0m \u001b[0mregister_hook\u001b[0m\u001b[1;33m(\u001b[0m\u001b[0mself\u001b[0m\u001b[1;33m,\u001b[0m \u001b[0mhook\u001b[0m\u001b[1;33m)\u001b[0m\u001b[1;33m:\u001b[0m\u001b[1;33m\u001b[0m\u001b[1;33m\u001b[0m\u001b[0m\n",
      "\u001b[1;32mc:\\users\\sgao0001\\anaconda3\\envs\\dl\\lib\\site-packages\\torch\\autograd\\__init__.py\u001b[0m in \u001b[0;36mbackward\u001b[1;34m(tensors, grad_tensors, retain_graph, create_graph, grad_variables, inputs)\u001b[0m\n\u001b[0;32m    145\u001b[0m         \u001b[0mretain_graph\u001b[0m \u001b[1;33m=\u001b[0m \u001b[0mcreate_graph\u001b[0m\u001b[1;33m\u001b[0m\u001b[1;33m\u001b[0m\u001b[0m\n\u001b[0;32m    146\u001b[0m \u001b[1;33m\u001b[0m\u001b[0m\n\u001b[1;32m--> 147\u001b[1;33m     Variable._execution_engine.run_backward(\n\u001b[0m\u001b[0;32m    148\u001b[0m         \u001b[0mtensors\u001b[0m\u001b[1;33m,\u001b[0m \u001b[0mgrad_tensors_\u001b[0m\u001b[1;33m,\u001b[0m \u001b[0mretain_graph\u001b[0m\u001b[1;33m,\u001b[0m \u001b[0mcreate_graph\u001b[0m\u001b[1;33m,\u001b[0m \u001b[0minputs\u001b[0m\u001b[1;33m,\u001b[0m\u001b[1;33m\u001b[0m\u001b[1;33m\u001b[0m\u001b[0m\n\u001b[0;32m    149\u001b[0m         allow_unreachable=True, accumulate_grad=True)  # allow_unreachable flag\n",
      "\u001b[1;31mKeyboardInterrupt\u001b[0m: "
     ]
    }
   ],
   "source": [
    "from tqdm.notebook import tqdm\n",
    "import ipdb\n",
    "n_epochs = 300\n",
    "best_accuracy = 0.0\n",
    "\n",
    "for epoch in tqdm(range(n_epochs)):\n",
    "    \n",
    "    # Training\n",
    "    model.train(True)\n",
    "    for seq, category in train_loader:\n",
    "        seq, category = seq.to(device), category.to(device)\n",
    "        optim.zero_grad()\n",
    "        result = model(seq)\n",
    "        #ipdb.set_trace()\n",
    "        loss = nll(result, category)\n",
    "        loss.backward()\n",
    "        optim.step()\n",
    "        \n",
    "    # Validation\n",
    "    model.train(False)\n",
    "    for seq, category in val_loader:\n",
    "        seq, category = seq.to(device), category.to(device)\n",
    "        result = model.forward(seq)\n",
    "        acc = accuracy(result, category).item()\n",
    "        print(f\"Epoch: {epoch}      \"\n",
    "              f\"Accuracy: {100*acc:.0f}%    \"\n",
    "              f\"Best Accuracy: {100*best_accuracy:.0f}%\",\n",
    "              end=\"\\r\"\n",
    "             )\n",
    "        if acc >= best_accuracy:\n",
    "            best_accuracy = acc\n",
    "            torch.save(model.state_dict(), \"best_model.pt\")\n",
    "        "
   ]
  },
  {
   "cell_type": "code",
   "execution_count": 130,
   "id": "0f60f641-e3c0-4df0-80d8-0ce7cb1d2ce3",
   "metadata": {},
   "outputs": [
    {
     "data": {
      "text/plain": [
       "<All keys matched successfully>"
      ]
     },
     "execution_count": 130,
     "metadata": {},
     "output_type": "execute_result"
    }
   ],
   "source": [
    "loaded_rnn = RNN(batch_size=batch_size)\n",
    "loaded_rnn = loaded_rnn.to('cpu')\n",
    "loaded_rnn.load_state_dict(torch.load(\"best_model.pt\"))"
   ]
  },
  {
   "cell_type": "code",
   "execution_count": 141,
   "id": "ef3519c8-8b39-4a18-9d66-345779c88683",
   "metadata": {},
   "outputs": [
    {
     "data": {
      "text/plain": [
       "array([2, 4, 1, 1, 0, 4, 2, 0, 4, 2, 4, 3, 3, 2, 0, 0, 3, 2, 3, 2, 0, 4,\n",
       "       2, 4, 0, 3, 2, 1, 1, 4, 1, 1, 1, 1, 1, 0, 4, 3, 1, 3, 2, 2, 2, 4,\n",
       "       3, 4, 1, 0, 0, 0, 1, 2, 4, 4, 3, 0, 0, 4, 4, 2, 1, 2, 3, 0, 3, 1,\n",
       "       2, 2, 4, 3, 3, 4, 2, 3, 3, 2, 1, 4, 4, 0, 1, 0, 0, 1, 2, 0, 4, 0,\n",
       "       4, 2, 3, 3, 2, 3, 2, 3, 4, 1, 2, 1, 2, 4, 2, 1, 0, 3, 3, 1, 3, 3,\n",
       "       0, 1, 1, 0, 4, 4, 2, 0, 1, 4, 2, 0, 4, 2, 3, 2, 4, 0, 1, 0, 2, 4,\n",
       "       0, 1, 2, 0, 4, 2, 2, 1, 3, 0, 1, 0, 0, 0, 2, 2, 2, 1, 0, 0, 0, 3,\n",
       "       3, 4, 4, 4, 2, 1, 1, 0, 3, 1, 0, 1, 2, 2, 1, 3, 4, 4, 1, 3, 1, 3,\n",
       "       4, 0, 1, 2, 4, 3, 0, 4, 2, 1, 3, 1, 4, 3, 2, 3, 1, 0, 0, 1, 4, 2,\n",
       "       4, 2, 4, 3, 2, 1, 1, 4, 3, 1, 4, 0, 1, 1, 1, 1, 0, 3, 4, 3, 1, 3,\n",
       "       4, 3, 1, 3, 1, 0, 2, 4, 2, 3, 0, 4, 4, 3, 0, 2, 3, 3, 0, 3, 0, 4,\n",
       "       0, 4, 3, 0, 2, 2, 0, 0], dtype=int64)"
      ]
     },
     "execution_count": 141,
     "metadata": {},
     "output_type": "execute_result"
    }
   ],
   "source": [
    "#parse_bases(test_x).to(device)\n",
    "prediction = loaded_rnn(parse_bases(test_x).to('cpu')).argmax(dim=-1).detach().numpy()\n",
    "prediction"
   ]
  },
  {
   "cell_type": "code",
   "execution_count": null,
   "id": "79875e5a-8825-4097-a4af-1783ca99db55",
   "metadata": {},
   "outputs": [],
   "source": [
    "# MAKE SURE THAT YOU HAVE THE RIGHT FORMAT\n",
    "assert prediction.ndim == 1\n",
    "assert prediction.shape[0] == 250\n",
    "\n",
    "# AND SAVE EXACTLY AS SHOWN BELOW\n",
    "np.save('prediction_m2m.npy', prediction.astype(int))\n",
    "\n",
    "# MAKE SURE THAT THE FILE HAS THE CORRECT FORMAT\n",
    "def validate_prediction_format():\n",
    "    loaded = np.load('prediction_m2m.npy')\n",
    "    assert loaded.shape == (250, )\n",
    "    assert loaded.dtype == int\n",
    "    assert (loaded <= 4).all()\n",
    "    assert (loaded >= 0).all()\n",
    "validate_prediction_format()"
   ]
  },
  {
   "cell_type": "code",
   "execution_count": null,
   "id": "54a29580-8118-4804-ac13-bd4c166cbc25",
   "metadata": {},
   "outputs": [],
   "source": []
  }
 ],
 "metadata": {
  "kernelspec": {
   "display_name": "Python 3",
   "language": "python",
   "name": "python3"
  },
  "language_info": {
   "codemirror_mode": {
    "name": "ipython",
    "version": 3
   },
   "file_extension": ".py",
   "mimetype": "text/x-python",
   "name": "python",
   "nbconvert_exporter": "python",
   "pygments_lexer": "ipython3",
   "version": "3.8.0"
  }
 },
 "nbformat": 4,
 "nbformat_minor": 5
}
