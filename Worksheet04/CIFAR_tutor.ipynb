{
 "cells": [
  {
   "cell_type": "code",
   "execution_count": null,
   "id": "c16f5b9f",
   "metadata": {},
   "outputs": [],
   "source": [
    "import numpy as np\n",
    "import matplotlib.pyplot as plt\n",
    "\n",
    "with np.load('prediction-challenge-02-data.npz') as fh:\n",
    "    x_train = fh['x_train']\n",
    "    y_train = fh['y_train']\n",
    "    x_test = fh['x_test']\n",
    "\n",
    "# TRAINING DATA: INPUT (x) AND OUTPUT (y)\n",
    "# 1. INDEX: IMAGE SERIAL NUMBER (6000)\n",
    "# 2/3. INDEX: PIXEL VALUE (32 x 32)\n",
    "# 4. INDEX: COLOR CHANNELS (3)\n",
    "print(x_train.shape, x_train.dtype)\n",
    "print(y_train.shape, y_train.dtype)\n",
    "\n",
    "# TEST DATA: INPUT (x) ONLY\n",
    "print(x_test.shape, x_test.dtype)\n",
    "\n",
    "# TRAIN MODEL ON x_train, y_train"
   ]
  },
  {
   "cell_type": "markdown",
   "id": "46962f4c",
   "metadata": {},
   "source": [
    "# Data Stuff"
   ]
  },
  {
   "cell_type": "code",
   "execution_count": null,
   "id": "617269ae",
   "metadata": {},
   "outputs": [],
   "source": [
    "from matplotlib import pyplot as plt\n",
    "i = 4\n",
    "plt.imshow(x_train[i])\n",
    "y_train[i]"
   ]
  },
  {
   "cell_type": "code",
   "execution_count": null,
   "id": "d1936fee",
   "metadata": {},
   "outputs": [],
   "source": [
    "def swap(x):\n",
    "    return x.swapaxes(-1,-2).swapaxes(-2,-3)"
   ]
  },
  {
   "cell_type": "code",
   "execution_count": null,
   "id": "f08de91a",
   "metadata": {},
   "outputs": [],
   "source": [
    "from sklearn.model_selection import train_test_split"
   ]
  },
  {
   "cell_type": "code",
   "execution_count": null,
   "id": "5e562353",
   "metadata": {},
   "outputs": [],
   "source": [
    "x_training, x_validation, y_training, y_validation = train_test_split(\n",
    "    swap(x_train), y_train\n",
    ")"
   ]
  },
  {
   "cell_type": "code",
   "execution_count": null,
   "id": "635b6a06",
   "metadata": {},
   "outputs": [],
   "source": [
    "y_training.shape"
   ]
  },
  {
   "cell_type": "code",
   "execution_count": null,
   "id": "5f061397",
   "metadata": {},
   "outputs": [],
   "source": [
    "import torch"
   ]
  },
  {
   "cell_type": "code",
   "execution_count": null,
   "id": "7c222544",
   "metadata": {},
   "outputs": [],
   "source": []
  },
  {
   "cell_type": "markdown",
   "id": "35a942b6",
   "metadata": {},
   "source": [
    "# Network"
   ]
  },
  {
   "cell_type": "code",
   "execution_count": null,
   "id": "2f522316",
   "metadata": {},
   "outputs": [],
   "source": [
    "class DenseNet(torch.nn.Sequential):\n",
    "    def __init__(self, *sizes, activation=torch.nn.ReLU()):\n",
    "        layers = self._make_layers(*sizes, activation=activation)\n",
    "        super().__init__(*layers)\n",
    "    \n",
    "    @staticmethod\n",
    "    def _make_layers(*sizes, activation):\n",
    "        layers = []\n",
    "        for i in range(len(sizes)-1):\n",
    "            layers.append(torch.nn.Linear(sizes[i], sizes[i+1]))\n",
    "            if i < len(sizes)-2:\n",
    "                layers.append(activation)\n",
    "        return layers\n",
    "    \n",
    "DenseNet(128, 2, 12, 24)"
   ]
  },
  {
   "cell_type": "code",
   "execution_count": null,
   "id": "633ab7c3",
   "metadata": {},
   "outputs": [],
   "source": [
    "class RegularizedConvBlock(torch.nn.Sequential):\n",
    "    def __init__(\n",
    "        self, \n",
    "        in_features, \n",
    "        out_features, \n",
    "        kernel_size=2,\n",
    "        dropout=0.2,\n",
    "        activation=torch.nn.ReLU()\n",
    "    ):\n",
    "        layers = [\n",
    "            torch.nn.Conv2d(in_features, out_features, kernel_size),\n",
    "            activation,\n",
    "            torch.nn.BatchNorm2d(out_features),\n",
    "            torch.nn.MaxPool2d(kernel_size),\n",
    "            torch.nn.Dropout(dropout)\n",
    "        ]\n",
    "        super().__init__(*layers)\n",
    "    \n",
    "    def forward(self, x):\n",
    "        dx = super().forward(x)\n",
    "        return dx\n",
    "        \n",
    "        \n",
    "RegularizedConvBlock(3,3)(torch.tensor(x_training[:10])).shape"
   ]
  },
  {
   "cell_type": "code",
   "execution_count": null,
   "id": "eb0025fe",
   "metadata": {},
   "outputs": [],
   "source": [
    "class Classifier(torch.nn.Sequential):\n",
    "    def __init__(self, *hidden, dropout=0.5, activation=torch.nn.ReLU()):\n",
    "        layers = []\n",
    "        layers.append(RegularizedConvBlock(3,64))\n",
    "        layers.append(RegularizedConvBlock(64,16))\n",
    "        layers.append(RegularizedConvBlock(16,3))\n",
    "        layers.append(torch.nn.Flatten())\n",
    "        layers.append(DenseNet(27, *hidden, 3))\n",
    "        layers.append(torch.nn.LogSoftmax(dim=1))\n",
    "        super().__init__(*layers)\n",
    "        \n",
    "Classifier(128,128)(torch.tensor(x_training[:10])).shape"
   ]
  },
  {
   "cell_type": "code",
   "execution_count": null,
   "id": "27610693",
   "metadata": {},
   "outputs": [],
   "source": [
    "class NaiveClassifier(torch.nn.Sequential):\n",
    "    def __init__(self, *hidden):\n",
    "        layers = []\n",
    "        layers.append(torch.nn.Flatten())\n",
    "        layers.append(DenseNet(3*32*32, *hidden, 3))\n",
    "        layers.append(torch.nn.LogSoftmax(dim=1))\n",
    "        super().__init__(*layers)"
   ]
  },
  {
   "cell_type": "markdown",
   "id": "07e8ccdb",
   "metadata": {},
   "source": [
    "# Training"
   ]
  },
  {
   "cell_type": "code",
   "execution_count": null,
   "id": "a58eee36",
   "metadata": {},
   "outputs": [],
   "source": [
    "device = torch.device(\"cuda:0\")"
   ]
  },
  {
   "cell_type": "code",
   "execution_count": null,
   "id": "ae6391cd",
   "metadata": {},
   "outputs": [],
   "source": [
    "classifier = Classifier(512, 64, dropout=0.5)\n",
    "#classifier = NaiveClassifier(2048,1024,256,16)\n",
    "classifier.to(device)\n",
    "#train_loader.to(device)\n",
    "#validation_loader.to(device)"
   ]
  },
  {
   "cell_type": "code",
   "execution_count": null,
   "id": "0e1cba43",
   "metadata": {},
   "outputs": [],
   "source": [
    "def accuracy(x,y):\n",
    "    return (torch.argmax(x, dim=-1) == y).sum()/len(y)"
   ]
  },
  {
   "cell_type": "code",
   "execution_count": null,
   "id": "a063f859",
   "metadata": {},
   "outputs": [],
   "source": [
    "optim = torch.optim.Adam(classifier.parameters(), lr=5e-4)\n",
    "loss = torch.nn.NLLLoss()"
   ]
  },
  {
   "cell_type": "code",
   "execution_count": null,
   "id": "699453b1",
   "metadata": {},
   "outputs": [],
   "source": [
    "n_epoch = 200"
   ]
  },
  {
   "cell_type": "code",
   "execution_count": null,
   "id": "1de374ca",
   "metadata": {},
   "outputs": [],
   "source": [
    "from torch.utils.data import DataLoader, TensorDataset\n",
    "to_tensor = lambda x: torch.tensor(x, dtype=torch.float32, device=device)"
   ]
  },
  {
   "cell_type": "code",
   "execution_count": null,
   "id": "06f50ee3",
   "metadata": {
    "scrolled": false
   },
   "outputs": [],
   "source": [
    "for epoch in range(n_epoch):\n",
    "\n",
    "    train_loader = DataLoader(\n",
    "        TensorDataset(\n",
    "            to_tensor(x_training), \n",
    "            to_tensor(y_training).to(dtype=int)\n",
    "        ), batch_size=64, shuffle=True\n",
    "    )\n",
    "    validation_loader = DataLoader(\n",
    "        TensorDataset(\n",
    "            to_tensor(x_validation), \n",
    "            to_tensor(y_validation).to(dtype=int)\n",
    "        ), \n",
    "        batch_size=64, shuffle=False\n",
    "    )\n",
    "\n",
    "    all_nlls = []\n",
    "    all_accuracies = []\n",
    "    for x,y in train_loader:\n",
    "        optim.zero_grad()\n",
    "        prediction = classifier(x)\n",
    "        nll = loss(prediction, y)\n",
    "        nll.backward()\n",
    "        optim.step()\n",
    "        print(accuracy(prediction,y).item(), end=\"\\r\")\n",
    "        all_nlls.append(nll.item())\n",
    "        all_accuracies.append(accuracy(prediction,y).item())\n",
    "    train_string = (\n",
    "        \"Train. Accuracy  {:.2f}   Error {:.4f}\".format(\n",
    "            np.mean(all_accuracies), np.mean(all_nlls)\n",
    "        )   \n",
    "    )\n",
    "    \n",
    "    # validation\n",
    "    with torch.no_grad():\n",
    "        classifier.train(False)\n",
    "        all_nlls = []\n",
    "        all_accuracies = []\n",
    "        for x,y in validation_loader:\n",
    "            prediction = classifier(x)\n",
    "            nll = loss(prediction, y)\n",
    "            all_nlls.append(nll.item())\n",
    "            all_accuracies.append(accuracy(prediction,y).item())\n",
    "        test_string = (\n",
    "            \"Val. Accuracy  {:.2f}   Error {:.4f}\".format(\n",
    "                np.mean(all_accuracies), np.mean(all_nlls)\n",
    "            )   \n",
    "        )\n",
    "        classifier.train(True)\n",
    "    print(f\"{epoch+1:2d}/{n_epoch} | {train_string}  |  \" + test_string)\n",
    "        "
   ]
  },
  {
   "cell_type": "code",
   "execution_count": null,
   "id": "ea8b21e3",
   "metadata": {},
   "outputs": [],
   "source": [
    "prediction = classifier(to_tensor(swap(x_test))).argmax(dim=-1).detach().cpu().numpy()"
   ]
  },
  {
   "cell_type": "code",
   "execution_count": null,
   "id": "d8fa6355",
   "metadata": {},
   "outputs": [],
   "source": [
    "prediction"
   ]
  },
  {
   "cell_type": "code",
   "execution_count": null,
   "id": "a45f66a7",
   "metadata": {},
   "outputs": [],
   "source": [
    "# 0:cat, 1:dog, 2:frog"
   ]
  },
  {
   "cell_type": "code",
   "execution_count": null,
   "id": "40a696b9",
   "metadata": {},
   "outputs": [],
   "source": [
    "i = 12\n",
    "plt.imshow(x_test[i])\n",
    "prediction[i]"
   ]
  },
  {
   "cell_type": "code",
   "execution_count": null,
   "id": "0d4c2071",
   "metadata": {},
   "outputs": [],
   "source": [
    "# MAKE SURE THAT YOU HAVE THE RIGHT FORMAT\n",
    "assert prediction.ndim == 1\n",
    "assert prediction.shape[0] == 300\n",
    "\n",
    "# AND SAVE EXACTLY AS SHOWN BELOW\n",
    "np.save('prediction.npy', prediction.astype(int))\n",
    "\n",
    "# MAKE SURE THAT THE FILE HAS THE CORRECT FORMAT\n",
    "def validate_prediction_format():\n",
    "    loaded = np.load('prediction.npy')\n",
    "    assert loaded.shape == (300, )\n",
    "    assert loaded.dtype == int\n",
    "    assert (loaded <= 2).all()\n",
    "    assert (loaded >= 0).all()\n",
    "validate_prediction_format()"
   ]
  },
  {
   "cell_type": "code",
   "execution_count": null,
   "id": "ff83b0b7",
   "metadata": {},
   "outputs": [],
   "source": []
  }
 ],
 "metadata": {
  "kernelspec": {
   "display_name": "Python 3",
   "language": "python",
   "name": "python3"
  },
  "language_info": {
   "codemirror_mode": {
    "name": "ipython",
    "version": 3
   },
   "file_extension": ".py",
   "mimetype": "text/x-python",
   "name": "python",
   "nbconvert_exporter": "python",
   "pygments_lexer": "ipython3",
   "version": "3.9.4"
  }
 },
 "nbformat": 4,
 "nbformat_minor": 5
}